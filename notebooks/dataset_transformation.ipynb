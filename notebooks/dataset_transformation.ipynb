{
 "cells": [
  {
   "cell_type": "markdown",
   "metadata": {
    "collapsed": true
   },
   "source": [
    "# Imports"
   ]
  },
  {
   "cell_type": "code",
   "execution_count": null,
   "metadata": {},
   "outputs": [],
   "source": [
    "import h5py\n",
    "import pandas as pd\n",
    "import numpy as np\n",
    "from tqdm import tqdm\n",
    "import os\n",
    "import matplotlib.pyplot as plt\n",
    "import cv2\n",
    "from cv2 import imread, createCLAHE\n",
    "\n",
    "from tensorflow.keras import layers\n",
    "from tensorflow import keras \n",
    "import tensorflow as tf"
   ]
  },
  {
   "cell_type": "code",
   "execution_count": 58,
   "metadata": {},
   "outputs": [],
   "source": [
    "dataset_folder = '/home/joffrey/Documents/projects/pneumonia/dataset/'\n",
    "base_folder = dataset_folder + '/chest_xray/'\n",
    "\n",
    "TRAIN_FOLDER = base_folder + 'train'\n",
    "TEST_FOLDER = base_folder + 'test'"
   ]
  },
  {
   "cell_type": "markdown",
   "metadata": {},
   "source": [
    "# Data transformation"
   ]
  },
  {
   "cell_type": "code",
   "execution_count": 59,
   "metadata": {},
   "outputs": [],
   "source": [
    "categories = [\n",
    "    \"NORMAL\",\n",
    "    \"PNEUMONIA\"\n",
    "]"
   ]
  },
  {
   "cell_type": "markdown",
   "metadata": {},
   "source": [
    "### Create image labels dataframe"
   ]
  },
  {
   "cell_type": "markdown",
   "metadata": {},
   "source": [
    "We can't load all images on the RAM, labelise them and save them directly. However, we can labelise them through their path, and load them one by one later."
   ]
  },
  {
   "cell_type": "code",
   "execution_count": 60,
   "metadata": {},
   "outputs": [],
   "source": [
    "df = pd.DataFrame(columns=['label', 'path'])"
   ]
  },
  {
   "cell_type": "code",
   "execution_count": 61,
   "metadata": {},
   "outputs": [],
   "source": [
    "folders = [TRAIN_FOLDER, TEST_FOLDER]\n",
    "\n",
    "# Loop through \"Normal\" and \"Pneumonia\" from train and test folder\n",
    "for folder in folders:\n",
    "    for label in range(len(categories)):\n",
    "        \n",
    "        # Get the current directory\n",
    "        category = categories[label]\n",
    "        directory = f\"{folder}/{category}/\"\n",
    "        \n",
    "        # Loop through all file in this directory\n",
    "        for file_ in os.listdir(directory):\n",
    "            \n",
    "            full_path = directory + '/' + file_\n",
    "            df = df.append({'label': label, 'path': full_path}, ignore_index=True)"
   ]
  },
  {
   "cell_type": "code",
   "execution_count": 62,
   "metadata": {},
   "outputs": [
    {
     "data": {
      "text/html": [
       "<div>\n",
       "<style scoped>\n",
       "    .dataframe tbody tr th:only-of-type {\n",
       "        vertical-align: middle;\n",
       "    }\n",
       "\n",
       "    .dataframe tbody tr th {\n",
       "        vertical-align: top;\n",
       "    }\n",
       "\n",
       "    .dataframe thead th {\n",
       "        text-align: right;\n",
       "    }\n",
       "</style>\n",
       "<table border=\"1\" class=\"dataframe\">\n",
       "  <thead>\n",
       "    <tr style=\"text-align: right;\">\n",
       "      <th></th>\n",
       "      <th>label</th>\n",
       "      <th>path</th>\n",
       "    </tr>\n",
       "  </thead>\n",
       "  <tbody>\n",
       "    <tr>\n",
       "      <th>0</th>\n",
       "      <td>0</td>\n",
       "      <td>/home/joffrey/Documents/projects/pneumonia/dat...</td>\n",
       "    </tr>\n",
       "    <tr>\n",
       "      <th>1</th>\n",
       "      <td>0</td>\n",
       "      <td>/home/joffrey/Documents/projects/pneumonia/dat...</td>\n",
       "    </tr>\n",
       "    <tr>\n",
       "      <th>2</th>\n",
       "      <td>0</td>\n",
       "      <td>/home/joffrey/Documents/projects/pneumonia/dat...</td>\n",
       "    </tr>\n",
       "    <tr>\n",
       "      <th>3</th>\n",
       "      <td>0</td>\n",
       "      <td>/home/joffrey/Documents/projects/pneumonia/dat...</td>\n",
       "    </tr>\n",
       "    <tr>\n",
       "      <th>4</th>\n",
       "      <td>0</td>\n",
       "      <td>/home/joffrey/Documents/projects/pneumonia/dat...</td>\n",
       "    </tr>\n",
       "    <tr>\n",
       "      <th>...</th>\n",
       "      <td>...</td>\n",
       "      <td>...</td>\n",
       "    </tr>\n",
       "    <tr>\n",
       "      <th>5835</th>\n",
       "      <td>1</td>\n",
       "      <td>/home/joffrey/Documents/projects/pneumonia/dat...</td>\n",
       "    </tr>\n",
       "    <tr>\n",
       "      <th>5836</th>\n",
       "      <td>1</td>\n",
       "      <td>/home/joffrey/Documents/projects/pneumonia/dat...</td>\n",
       "    </tr>\n",
       "    <tr>\n",
       "      <th>5837</th>\n",
       "      <td>1</td>\n",
       "      <td>/home/joffrey/Documents/projects/pneumonia/dat...</td>\n",
       "    </tr>\n",
       "    <tr>\n",
       "      <th>5838</th>\n",
       "      <td>1</td>\n",
       "      <td>/home/joffrey/Documents/projects/pneumonia/dat...</td>\n",
       "    </tr>\n",
       "    <tr>\n",
       "      <th>5839</th>\n",
       "      <td>1</td>\n",
       "      <td>/home/joffrey/Documents/projects/pneumonia/dat...</td>\n",
       "    </tr>\n",
       "  </tbody>\n",
       "</table>\n",
       "<p>5840 rows × 2 columns</p>\n",
       "</div>"
      ],
      "text/plain": [
       "     label                                               path\n",
       "0        0  /home/joffrey/Documents/projects/pneumonia/dat...\n",
       "1        0  /home/joffrey/Documents/projects/pneumonia/dat...\n",
       "2        0  /home/joffrey/Documents/projects/pneumonia/dat...\n",
       "3        0  /home/joffrey/Documents/projects/pneumonia/dat...\n",
       "4        0  /home/joffrey/Documents/projects/pneumonia/dat...\n",
       "...    ...                                                ...\n",
       "5835     1  /home/joffrey/Documents/projects/pneumonia/dat...\n",
       "5836     1  /home/joffrey/Documents/projects/pneumonia/dat...\n",
       "5837     1  /home/joffrey/Documents/projects/pneumonia/dat...\n",
       "5838     1  /home/joffrey/Documents/projects/pneumonia/dat...\n",
       "5839     1  /home/joffrey/Documents/projects/pneumonia/dat...\n",
       "\n",
       "[5840 rows x 2 columns]"
      ]
     },
     "execution_count": 62,
     "metadata": {},
     "output_type": "execute_result"
    }
   ],
   "source": [
    "df"
   ]
  },
  {
   "cell_type": "markdown",
   "metadata": {},
   "source": [
    "### Transform dataframe to h5py"
   ]
  },
  {
   "cell_type": "code",
   "execution_count": 63,
   "metadata": {},
   "outputs": [],
   "source": [
    "h5_file_path = dataset_folder + 'chest_xray_10.h5'"
   ]
  },
  {
   "cell_type": "code",
   "execution_count": 64,
   "metadata": {},
   "outputs": [],
   "source": [
    "def write_df_as_hdf(out_path, dataframe, comp='gzip'):\n",
    "    \n",
    "    # Create a h5 file, loop trought the content of the dataframe\n",
    "    with h5py.File(out_path, 'w') as h5:\n",
    "        for columns, content in tqdm(dataframe.to_dict().items()):\n",
    "            \n",
    "            try:\n",
    "                serialized_data = np.stack(content.values(), 0)\n",
    "                \n",
    "                try:\n",
    "                    h5.create_dataset(columns, data=serialized_data, compression=comp)\n",
    "                    \n",
    "                except TypeError as e:\n",
    "                    \n",
    "                    try:\n",
    "                        h5.create_dataset(columns, data=serialized_data.astype(np.string_), compression=comp)\n",
    "                        \n",
    "                    except TypeError as e2:\n",
    "                        print('%s could not be added to hdf5, %s' % (\n",
    "                            columns, repr(e), repr(e2)))\n",
    "                        \n",
    "            except ValueError as e:\n",
    "                print('%s could not be created, %s' % (columns, repr(e)))\n",
    "                all_shape = [np.shape(x) for x in content.values()]\n",
    "                warn('Input shapes: {}'.format(all_shape))"
   ]
  },
  {
   "cell_type": "code",
   "execution_count": 65,
   "metadata": {},
   "outputs": [
    {
     "name": "stderr",
     "output_type": "stream",
     "text": [
      "  0%|          | 0/1 [00:00<?, ?it/s]/home/joffrey/.pyenv/versions/pneumonia/lib/python3.8/site-packages/IPython/core/interactiveshell.py:3418: FutureWarning: arrays to stack must be passed as a \"sequence\" type such as list or tuple. Support for non-sequence iterables such as generators is deprecated as of NumPy 1.16 and will raise an error in the future.\n",
      "  exec(code_obj, self.user_global_ns, self.user_ns)\n",
      "100%|██████████| 1/1 [00:00<00:00, 57.87it/s]\n"
     ]
    }
   ],
   "source": [
    "write_df_as_hdf(h5_file_path, df[['label']])"
   ]
  },
  {
   "cell_type": "code",
   "execution_count": 66,
   "metadata": {},
   "outputs": [
    {
     "name": "stdout",
     "output_type": "stream",
     "text": [
      "label (5840,) int64\n"
     ]
    }
   ],
   "source": [
    "# Show what is inside\n",
    "with h5py.File(h5_file_path, 'r') as h5_data:\n",
    "    \n",
    "    for c_key in h5_data.keys():\n",
    "        print(c_key, h5_data[c_key].shape, h5_data[c_key].dtype)"
   ]
  },
  {
   "cell_type": "markdown",
   "metadata": {},
   "source": [
    "### Transform image to h5py"
   ]
  },
  {
   "cell_type": "code",
   "execution_count": 67,
   "metadata": {},
   "outputs": [],
   "source": [
    "from skimage import transform\n",
    "\n",
    "RESIZE_DIM = (1000, 1300)\n",
    "\n",
    "def imread_and_normalize(img_path):\n",
    "    \n",
    "    # Read the image as int9\n",
    "    img_data = np.mean(imread(img_path), 2).astype(np.uint8)\n",
    "    \n",
    "    # Normalize and return\n",
    "    n_img = (255 * transform.resize(img_data, RESIZE_DIM, mode = 'constant')).clip(0, 255).astype(np.uint8)\n",
    "    return np.expand_dims(n_img, -1)"
   ]
  },
  {
   "cell_type": "code",
   "execution_count": 68,
   "metadata": {},
   "outputs": [],
   "source": [
    "CROP_DIM = (640, 850)\n",
    "\n",
    "def crop_center(img: np.array):\n",
    "    \n",
    "    h, w = CROP_DIM\n",
    "    \n",
    "    center = img.shape[0] / 2, img.shape[1] / 2\n",
    "    x = center[1] - w/2\n",
    "    y = 90 + center[0] - h/2\n",
    "    \n",
    "    return img[int(y):int(y+h), int(x):int(x+w)]"
   ]
  },
  {
   "cell_type": "code",
   "execution_count": 69,
   "metadata": {},
   "outputs": [],
   "source": [
    "OUT_SIZE = (32, 42)\n",
    "\n",
    "def resize_img(img: np.array):\n",
    "    return transform.resize(img, OUT_SIZE, mode = 'constant')\n",
    "\n",
    "OU_SIZE = (10, 14)\n",
    "\n",
    "def maxpool(img: np.array):\n",
    "    return "
   ]
  },
  {
   "cell_type": "markdown",
   "metadata": {},
   "source": [
    "Run a test:"
   ]
  },
  {
   "cell_type": "code",
   "execution_count": 34,
   "metadata": {},
   "outputs": [
    {
     "name": "stdout",
     "output_type": "stream",
     "text": [
      "<class 'numpy.ndarray'>\n"
     ]
    },
    {
     "data": {
      "text/plain": [
       "<matplotlib.image.AxesImage at 0x7f77bf2f6970>"
      ]
     },
     "execution_count": 34,
     "metadata": {},
     "output_type": "execute_result"
    },
    {
     "data": {
      "image/png": "[encoded data removed]",
      "text/plain": [
       "<Figure size 378x288 with 1 Axes>"
      ]
     },
     "metadata": {
      "needs_background": "light"
     },
     "output_type": "display_data"
    }
   ],
   "source": [
    "image = imread_and_normalize(df['path'].values[0])\n",
    "cropped_img = crop_center(image)\n",
    "resized_img = resize_img(cropped_img)\n",
    "\n",
    "print(type(resized_img))\n",
    "plt.matshow(resized_img)"
   ]
  },
  {
   "cell_type": "code",
   "execution_count": null,
   "metadata": {},
   "outputs": [],
   "source": []
  },
  {
   "cell_type": "code",
   "execution_count": 35,
   "metadata": {},
   "outputs": [],
   "source": [
    "# Preallocate output\n",
    "# img_array = np.zeros((df.shape[0],) + OUT_SIZE + (1,), dtype=np.uint8)\n",
    "img_array = []\n",
    "\n",
    "# Set to TRUE to hard preallocate\n",
    "# Warning: May cause system crash !\n",
    "if False:\n",
    "    img_array = np.random.uniform(0, 255, size = (df.shape[0],)+ OUT_SIZE +(1,)).astype(np.uint8)"
   ]
  },
  {
   "cell_type": "code",
   "execution_count": 36,
   "metadata": {},
   "outputs": [
    {
     "name": "stderr",
     "output_type": "stream",
     "text": [
      "100%|██████████| 5840/5840 [10:59<00:00,  8.86it/s]\n"
     ]
    }
   ],
   "source": [
    "for i, path in enumerate(tqdm(df['path'].values)):\n",
    "    img_array.append(resize_img(crop_center(imread_and_normalize(path))))"
   ]
  },
  {
   "cell_type": "code",
   "execution_count": 37,
   "metadata": {},
   "outputs": [],
   "source": [
    "with h5py.File(h5_file_path, 'a') as h5_data:\n",
    "    h5_data.create_dataset('images', data = np.array(img_array), compression = 'gzip')"
   ]
  },
  {
   "cell_type": "code",
   "execution_count": 38,
   "metadata": {},
   "outputs": [
    {
     "name": "stdout",
     "output_type": "stream",
     "text": [
      "images (5840, 32, 42, 1) float64\n",
      "label (5840,) int64\n"
     ]
    }
   ],
   "source": [
    "with h5py.File(h5_file_path, 'r') as h5_data:\n",
    "    for c_key in h5_data.keys():\n",
    "        print(c_key, h5_data[c_key].shape, h5_data[c_key].dtype)"
   ]
  },
  {
   "cell_type": "code",
   "execution_count": null,
   "metadata": {},
   "outputs": [],
   "source": []
  }
 ],
 "metadata": {
  "kernelspec": {
   "display_name": "Python 3",
   "language": "python",
   "name": "python3"
  },
  "language_info": {
   "codemirror_mode": {
    "name": "ipython",
    "version": 3
   },
   "file_extension": ".py",
   "mimetype": "text/x-python",
   "name": "python",
   "nbconvert_exporter": "python",
   "pygments_lexer": "ipython3",
   "version": "3.8.7"
  }
 },
 "nbformat": 4,
 "nbformat_minor": 1
}